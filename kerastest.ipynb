{
 "cells": [
  {
   "cell_type": "code",
   "execution_count": 1,
   "metadata": {},
   "outputs": [],
   "source": [
    "import numpy as np\n",
    "import matplotlib as mpl\n",
    "import matplotlib.pyplot as plt"
   ]
  },
  {
   "cell_type": "code",
   "execution_count": 2,
   "metadata": {},
   "outputs": [
    {
     "data": {
      "image/png": "[encoded data removed]",
      "text/plain": [
       "<Figure size 432x288 with 1 Axes>"
      ]
     },
     "metadata": {},
     "output_type": "display_data"
    }
   ],
   "source": [
    "plt.plot([1,2,3,4])\n",
    "plt.ylabel('some numbers')\n",
    "plt.xlabel('time')\n",
    "plt.show()"
   ]
  },
  {
   "cell_type": "code",
   "execution_count": 3,
   "metadata": {},
   "outputs": [],
   "source": [
    "np.random.seed(123)"
   ]
  },
  {
   "cell_type": "code",
   "execution_count": 4,
   "metadata": {},
   "outputs": [
    {
     "name": "stderr",
     "output_type": "stream",
     "text": [
      "Using TensorFlow backend.\n"
     ]
    }
   ],
   "source": [
    "from __future__ import print_function\n",
    "import keras\n",
    "\n",
    "from keras.layers import Dense, Flatten\n",
    "from keras.layers import Conv2D, MaxPooling2D\n",
    "from keras.models import Sequential\n",
    "import matplotlib.pylab as plt"
   ]
  },
  {
   "cell_type": "code",
   "execution_count": 5,
   "metadata": {},
   "outputs": [],
   "source": [
    "def makeModelML(img_x, img_y, num_classes):\n",
    "    input_shape = (img_x, img_y, 1)\n",
    "    model = Sequential()\n",
    "    model.add(Conv2D(32, kernel_size=(5, 5), strides=(1, 1),\n",
    "                 activation='relu',\n",
    "                 input_shape=input_shape))\n",
    "    model.add(MaxPooling2D(pool_size=(2, 2), strides=(2, 2)))\n",
    "    model.add(Conv2D(64, (5, 5), activation='relu'))\n",
    "    model.add(MaxPooling2D(pool_size=(2, 2)))\n",
    "    model.add(Flatten())\n",
    "    model.add(Dense(1000, activation='relu'))\n",
    "    model.add(Dense(num_classes, activation='softmax'))\n",
    "    model.compile(loss=keras.losses.categorical_crossentropy,\n",
    "              optimizer=keras.optimizers.Adam(),\n",
    "              metrics=['accuracy'])\n",
    "    return model"
   ]
  },
  {
   "cell_type": "code",
   "execution_count": 6,
   "metadata": {},
   "outputs": [],
   "source": [
    "class AccuracyHistory(keras.callbacks.Callback):\n",
    "    def on_train_begin(self, logs={}):\n",
    "        self.acc = []\n",
    "\n",
    "    def on_epoch_end(self, batch, logs={}):\n",
    "        self.acc.append(logs.get('acc'))\n",
    "\n",
    "\n",
    "def runML(img_x, img_y, num_classes, batch_size, epochs, itrain, ltrain, itest, ltest):\n",
    "    history = AccuracyHistory()\n",
    "    model = makeModelML(img_x,img_y,num_classes)\n",
    "    model.fit(itrain, ltrain,\n",
    "          batch_size=batch_size,\n",
    "          epochs=epochs,\n",
    "          verbose=1,\n",
    "          validation_data=(itest, ltest),\n",
    "          callbacks=[history])\n",
    "    score = model.evaluate(itest, ltest, verbose=0)\n",
    "    print('Test loss:', score[0])\n",
    "    print('Test accuracy:', score[1])\n",
    "    return model, history, score"
   ]
  },
  {
   "cell_type": "code",
   "execution_count": 7,
   "metadata": {},
   "outputs": [
    {
     "name": "stdout",
     "output_type": "stream",
     "text": [
      "Train on 60000 samples, validate on 10000 samples\n",
      "Epoch 1/10\n",
      "60000/60000 [==============================] - 105s 2ms/step - loss: 0.1494 - acc: 0.9548 - val_loss: 0.0489 - val_acc: 0.9849\n",
      "Epoch 2/10\n",
      "60000/60000 [==============================] - 107s 2ms/step - loss: 0.0416 - acc: 0.9873 - val_loss: 0.0302 - val_acc: 0.9894\n",
      "Epoch 3/10\n",
      "60000/60000 [==============================] - 104s 2ms/step - loss: 0.0272 - acc: 0.9916 - val_loss: 0.0321 - val_acc: 0.9898\n",
      "Epoch 4/10\n",
      "60000/60000 [==============================] - 121s 2ms/step - loss: 0.0198 - acc: 0.9934 - val_loss: 0.0263 - val_acc: 0.9920\n",
      "Epoch 5/10\n",
      "60000/60000 [==============================] - 105s 2ms/step - loss: 0.0147 - acc: 0.9950 - val_loss: 0.0323 - val_acc: 0.9903\n",
      "Epoch 6/10\n",
      "60000/60000 [==============================] - 116s 2ms/step - loss: 0.0122 - acc: 0.9961 - val_loss: 0.0219 - val_acc: 0.9929\n",
      "Epoch 7/10\n",
      "60000/60000 [==============================] - 103s 2ms/step - loss: 0.0117 - acc: 0.9961 - val_loss: 0.0276 - val_acc: 0.9919\n",
      "Epoch 8/10\n",
      "60000/60000 [==============================] - 111s 2ms/step - loss: 0.0083 - acc: 0.9973 - val_loss: 0.0298 - val_acc: 0.9924\n",
      "Epoch 9/10\n",
      "60000/60000 [==============================] - 100s 2ms/step - loss: 0.0080 - acc: 0.9975 - val_loss: 0.0305 - val_acc: 0.9910\n",
      "Epoch 10/10\n",
      "60000/60000 [==============================] - 112s 2ms/step - loss: 0.0054 - acc: 0.9983 - val_loss: 0.0370 - val_acc: 0.9915\n",
      "Test loss: 0.0369982356328\n",
      "Test accuracy: 0.9915\n"
     ]
    }
   ],
   "source": [
    "from keras.datasets import mnist\n",
    "#\n",
    "#  Generate the labeled data\n",
    "#\n",
    "ix = 28\n",
    "iy = 28\n",
    "nc = 10\n",
    "batch_size = 128\n",
    "epochs = 10\n",
    "# Get the data source as labeled pairs for train and test\n",
    "(itro, ltro), (iteo, lteo) = mnist.load_data()\n",
    "\n",
    "def convertML(img_x, img_y, num_classes, img_train_orig, label_train_orig, img_test_orig, label_test_orig):\n",
    "    # reshape the data into a 4D tensor - (sample_number, x_img_size, y_img_size, num_channels)\n",
    "    # because the MNIST is greyscale, we only have a single channel - RGB colour images would have 3\n",
    "    img_train = img_train_orig.reshape(img_train_orig.shape[0], img_x, img_y, 1)\n",
    "    img_test = img_test_orig.reshape(img_test_orig.shape[0], img_x, img_y, 1)\n",
    "    # convert the data to the right type\n",
    "    img_train = img_train.astype('float32')\n",
    "    img_test = img_test.astype('float32')\n",
    "    img_train /= 255\n",
    "    img_test /= 255\n",
    "    label_train = keras.utils.to_categorical(label_train_orig, num_classes)\n",
    "    label_test = keras.utils.to_categorical(label_test_orig, num_classes)\n",
    "    return img_train, label_train, img_test, label_test\n",
    "\n",
    "# Convert the data to be an input for runML\n",
    "itr, ltr, ite, lte = convertML(ix, iy, nc, itro, ltro, iteo, lteo)\n",
    "# Execute runML\n",
    "model, history, score = runML(ix, iy, nc, batch_size, epochs, itr, ltr, ite, lte)"
   ]
  },
  {
   "cell_type": "code",
   "execution_count": 8,
   "metadata": {},
   "outputs": [
    {
     "data": {
      "image/png": "[encoded data removed]",
      "text/plain": [
       "<Figure size 432x288 with 1 Axes>"
      ]
     },
     "metadata": {},
     "output_type": "display_data"
    }
   ],
   "source": [
    "# Plot the results\n",
    "plt.plot(range(1, epochs+1), history.acc)\n",
    "plt.xlabel('Epochs')\n",
    "plt.ylabel('Accuracy')\n",
    "plt.show()"
   ]
  },
  {
   "cell_type": "code",
   "execution_count": 25,
   "metadata": {},
   "outputs": [
    {
     "data": {
      "text/plain": [
       "<matplotlib.image.AxesImage at 0x7fddbd505860>"
      ]
     },
     "execution_count": 25,
     "metadata": {},
     "output_type": "execute_result"
    },
    {
     "data": {
      "image/png": "[encoded data removed]",
      "text/plain": [
       "<Figure size 432x288 with 1 Axes>"
      ]
     },
     "metadata": {},
     "output_type": "display_data"
    }
   ],
   "source": [
    "plt.imshow(iteo[6])"
   ]
  },
  {
   "cell_type": "code",
   "execution_count": 28,
   "metadata": {},
   "outputs": [
    {
     "name": "stdout",
     "output_type": "stream",
     "text": [
      "predict: 4\n"
     ]
    }
   ],
   "source": [
    "prediction = model.predict(np.array(ite[6:7]))\n",
    "print(\"predict: %s\" % np.argmax(prediction))"
   ]
  },
  {
   "cell_type": "code",
   "execution_count": 10,
   "metadata": {},
   "outputs": [
    {
     "data": {
      "image/png": "[encoded data removed]",
      "text/plain": [
       "<Figure size 432x288 with 10 Axes>"
      ]
     },
     "metadata": {},
     "output_type": "display_data"
    }
   ],
   "source": [
    "f, xarr = plt.subplots(1,nc)\n",
    "for i in range(0,nc):\n",
    "    xarr[i].imshow(itro[i])\n",
    "    xarr[i].set_xlabel(ltro[i])"
   ]
  },
  {
   "cell_type": "code",
   "execution_count": 11,
   "metadata": {},
   "outputs": [
    {
     "data": {
      "image/png": "[encoded data removed]",
      "text/plain": [
       "<Figure size 432x288 with 10 Axes>"
      ]
     },
     "metadata": {},
     "output_type": "display_data"
    }
   ],
   "source": [
    "f, xarr = plt.subplots(1,nc)\n",
    "for i in range(0,nc):\n",
    "    xarr[i].imshow(iteo[i])\n",
    "    xarr[i].set_xlabel(lteo[i])"
   ]
  }
 ],
 "metadata": {
  "kernelspec": {
   "display_name": "Python 3",
   "language": "python",
   "name": "python3"
  },
  "language_info": {
   "codemirror_mode": {
    "name": "ipython",
    "version": 3
   },
   "file_extension": ".py",
   "mimetype": "text/x-python",
   "name": "python",
   "nbconvert_exporter": "python",
   "pygments_lexer": "ipython3",
   "version": "3.6.5"
  }
 },
 "nbformat": 4,
 "nbformat_minor": 2
}
