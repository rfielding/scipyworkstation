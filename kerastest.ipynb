{
 "cells": [
  {
   "cell_type": "code",
   "execution_count": 1,
   "metadata": {},
   "outputs": [],
   "source": [
    "import numpy as np\n",
    "import matplotlib as mpl\n",
    "import matplotlib.pyplot as plt"
   ]
  },
  {
   "cell_type": "code",
   "execution_count": 2,
   "metadata": {},
   "outputs": [
    {
     "data": {
      "image/png": "[encoded data removed]",
      "text/plain": [
       "<Figure size 432x288 with 1 Axes>"
      ]
     },
     "metadata": {},
     "output_type": "display_data"
    }
   ],
   "source": [
    "plt.plot([1,2,3,4])\n",
    "plt.ylabel('some numbers')\n",
    "plt.xlabel('time')\n",
    "plt.show()"
   ]
  },
  {
   "cell_type": "code",
   "execution_count": 3,
   "metadata": {},
   "outputs": [],
   "source": [
    "np.random.seed(123)"
   ]
  },
  {
   "cell_type": "code",
   "execution_count": 4,
   "metadata": {},
   "outputs": [
    {
     "name": "stderr",
     "output_type": "stream",
     "text": [
      "Using TensorFlow backend.\n"
     ]
    }
   ],
   "source": [
    "from __future__ import print_function\n",
    "import keras\n",
    "\n",
    "from keras.layers import Dense, Flatten\n",
    "from keras.layers import Conv2D, MaxPooling2D\n",
    "from keras.models import Sequential\n",
    "import matplotlib.pylab as plt"
   ]
  },
  {
   "cell_type": "code",
   "execution_count": 5,
   "metadata": {},
   "outputs": [],
   "source": [
    "def makeModelML(img_x, img_y, num_classes):\n",
    "    input_shape = (img_x, img_y, 1)\n",
    "    model = Sequential()\n",
    "    model.add(Conv2D(32, kernel_size=(5, 5), strides=(1, 1),\n",
    "                 activation='relu',\n",
    "                 input_shape=input_shape))\n",
    "    model.add(MaxPooling2D(pool_size=(2, 2), strides=(2, 2)))\n",
    "    model.add(Conv2D(64, (5, 5), activation='relu'))\n",
    "    model.add(MaxPooling2D(pool_size=(2, 2)))\n",
    "    model.add(Flatten())\n",
    "    model.add(Dense(1000, activation='relu'))\n",
    "    model.add(Dense(num_classes, activation='softmax'))\n",
    "    model.compile(loss=keras.losses.categorical_crossentropy,\n",
    "              optimizer=keras.optimizers.Adam(),\n",
    "              metrics=['accuracy'])\n",
    "    return model"
   ]
  },
  {
   "cell_type": "code",
   "execution_count": 6,
   "metadata": {},
   "outputs": [],
   "source": [
    "class AccuracyHistory(keras.callbacks.Callback):\n",
    "    def on_train_begin(self, logs={}):\n",
    "        self.acc = []\n",
    "\n",
    "    def on_epoch_end(self, batch, logs={}):\n",
    "        self.acc.append(logs.get('acc'))\n",
    "\n",
    "\n",
    "def runML(img_x, img_y, num_classes, batch_size, epochs, itrain, ltrain, itest, ltest):\n",
    "    history = AccuracyHistory()\n",
    "    model = makeModelML(img_x,img_y,num_classes)\n",
    "    model.fit(itrain, ltrain,\n",
    "          batch_size=batch_size,\n",
    "          epochs=epochs,\n",
    "          verbose=1,\n",
    "          validation_data=(itest, ltest),\n",
    "          callbacks=[history])\n",
    "    score = model.evaluate(itest, ltest, verbose=0)\n",
    "    print('Test loss:', score[0])\n",
    "    print('Test accuracy:', score[1])\n",
    "    return model, history, score"
   ]
  },
  {
   "cell_type": "code",
   "execution_count": 7,
   "metadata": {},
   "outputs": [
    {
     "name": "stdout",
     "output_type": "stream",
     "text": [
      "Downloading data from https://s3.amazonaws.com/img-datasets/mnist.npz\n",
      "11493376/11490434 [==============================] - 4s 0us/step\n",
      "Train on 60000 samples, validate on 10000 samples\n",
      "Epoch 1/10\n",
      "60000/60000 [==============================] - 111s 2ms/step - loss: 0.1899 - acc: 0.9406 - val_loss: 0.0563 - val_acc: 0.9816\n",
      "Epoch 2/10\n",
      "60000/60000 [==============================] - 109s 2ms/step - loss: 0.0524 - acc: 0.9843 - val_loss: 0.0470 - val_acc: 0.9842\n",
      "Epoch 3/10\n",
      "60000/60000 [==============================] - 109s 2ms/step - loss: 0.0356 - acc: 0.9889 - val_loss: 0.0343 - val_acc: 0.9889\n",
      "Epoch 4/10\n",
      "60000/60000 [==============================] - 106s 2ms/step - loss: 0.0295 - acc: 0.9909 - val_loss: 0.0273 - val_acc: 0.9916\n",
      "Epoch 5/10\n",
      "60000/60000 [==============================] - 107s 2ms/step - loss: 0.0231 - acc: 0.9927 - val_loss: 0.0346 - val_acc: 0.9891\n",
      "Epoch 6/10\n",
      "60000/60000 [==============================] - 107s 2ms/step - loss: 0.0212 - acc: 0.9931 - val_loss: 0.0328 - val_acc: 0.9901\n",
      "Epoch 7/10\n",
      "60000/60000 [==============================] - 109s 2ms/step - loss: 0.0171 - acc: 0.9948 - val_loss: 0.0322 - val_acc: 0.9910\n",
      "Epoch 8/10\n",
      "60000/60000 [==============================] - 108s 2ms/step - loss: 0.0183 - acc: 0.9946 - val_loss: 0.0369 - val_acc: 0.9903\n",
      "Epoch 9/10\n",
      "60000/60000 [==============================] - 113s 2ms/step - loss: 0.0175 - acc: 0.9947 - val_loss: 0.0334 - val_acc: 0.9917\n",
      "Epoch 10/10\n",
      "60000/60000 [==============================] - 125s 2ms/step - loss: 0.0144 - acc: 0.9957 - val_loss: 0.0420 - val_acc: 0.9906\n",
      "Test loss: 0.041998324997\n",
      "Test accuracy: 0.9906\n"
     ]
    }
   ],
   "source": [
    "from keras.datasets import mnist\n",
    "#\n",
    "#  Generate the labeled data\n",
    "#\n",
    "ix = 28\n",
    "iy = 28\n",
    "nc = 10\n",
    "batch_size = 128\n",
    "epochs = 10\n",
    "# Get the data source as labeled pairs for train and test\n",
    "(itro, ltro), (iteo, lteo) = mnist.load_data()\n",
    "\n",
    "def convertML(img_x, img_y, num_classes, img_train_orig, label_train_orig, img_test_orig, label_test_orig):\n",
    "    # reshape the data into a 4D tensor - (sample_number, x_img_size, y_img_size, num_channels)\n",
    "    # because the MNIST is greyscale, we only have a single channel - RGB colour images would have 3\n",
    "    img_train = img_train_orig.reshape(img_train_orig.shape[0], img_x, img_y, 1)\n",
    "    img_test = img_test_orig.reshape(img_test_orig.shape[0], img_x, img_y, 1)\n",
    "    # convert the data to the right type\n",
    "    img_train = img_train.astype('float32')\n",
    "    img_test = img_test.astype('float32')\n",
    "    img_train /= 255\n",
    "    img_test /= 255\n",
    "    label_train = keras.utils.to_categorical(label_train_orig, num_classes)\n",
    "    label_test = keras.utils.to_categorical(label_test_orig, num_classes)\n",
    "    return img_train, label_train, img_test, label_test\n",
    "\n",
    "# Convert the data to be an input for runML\n",
    "itr, ltr, ite, lte = convertML(ix, iy, nc, itro, ltro, iteo, lteo)\n",
    "# Execute runML\n",
    "model, history, score = runML(ix, iy, nc, batch_size, epochs, itr, ltr, ite, lte)"
   ]
  },
  {
   "cell_type": "code",
   "execution_count": 8,
   "metadata": {},
   "outputs": [
    {
     "data": {
      "image/png": "[encoded data removed]",
      "text/plain": [
       "<Figure size 432x288 with 1 Axes>"
      ]
     },
     "metadata": {},
     "output_type": "display_data"
    }
   ],
   "source": [
    "# Plot the results\n",
    "plt.plot(range(1, epochs+1), history.acc)\n",
    "plt.xlabel('Epochs')\n",
    "plt.ylabel('Accuracy')\n",
    "plt.show()"
   ]
  },
  {
   "cell_type": "code",
   "execution_count": 9,
   "metadata": {},
   "outputs": [
    {
     "data": {
      "text/plain": [
       "<matplotlib.image.AxesImage at 0x7fa495eb0a90>"
      ]
     },
     "execution_count": 9,
     "metadata": {},
     "output_type": "execute_result"
    },
    {
     "data": {
      "image/png": "[encoded data removed]",
      "text/plain": [
       "<Figure size 432x288 with 1 Axes>"
      ]
     },
     "metadata": {},
     "output_type": "display_data"
    }
   ],
   "source": [
    "plt.imshow(iteo[6])"
   ]
  },
  {
   "cell_type": "code",
   "execution_count": 10,
   "metadata": {},
   "outputs": [
    {
     "name": "stdout",
     "output_type": "stream",
     "text": [
      "predict: 4\n"
     ]
    }
   ],
   "source": [
    "prediction = model.predict(np.array(ite[6:7]))\n",
    "print(\"predict: %s\" % np.argmax(prediction))"
   ]
  },
  {
   "cell_type": "code",
   "execution_count": null,
   "metadata": {},
   "outputs": [],
   "source": [
    "f, xarr = plt.subplots(1,len(itro))\n",
    "for i in range(0,len(itro)):\n",
    "    xarr[i].imshow(itro[i])\n",
    "    xarr[i].set_xlabel(ltro[i])"
   ]
  },
  {
   "cell_type": "code",
   "execution_count": null,
   "metadata": {},
   "outputs": [],
   "source": [
    "f, xarr = plt.subplots(1,len(iteo))\n",
    "for i in range(0,len(iteo)):\n",
    "    xarr[i].imshow(iteo[i])\n",
    "    xarr[i].set_xlabel(lteo[i])"
   ]
  }
 ],
 "metadata": {
  "kernelspec": {
   "display_name": "Python 3",
   "language": "python",
   "name": "python3"
  },
  "language_info": {
   "codemirror_mode": {
    "name": "ipython",
    "version": 3
   },
   "file_extension": ".py",
   "mimetype": "text/x-python",
   "name": "python",
   "nbconvert_exporter": "python",
   "pygments_lexer": "ipython3",
   "version": "3.6.5"
  }
 },
 "nbformat": 4,
 "nbformat_minor": 2
}
