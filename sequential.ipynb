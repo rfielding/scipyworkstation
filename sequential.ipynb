{
 "cells": [
  {
   "cell_type": "code",
   "execution_count": 1,
   "metadata": {},
   "outputs": [],
   "source": [
    "import pydot"
   ]
  },
  {
   "cell_type": "code",
   "execution_count": 2,
   "metadata": {},
   "outputs": [],
   "source": [
    "graph = pydot.Dot(graph_type='digraph')"
   ]
  },
  {
   "cell_type": "code",
   "execution_count": 3,
   "metadata": {},
   "outputs": [],
   "source": [
    "graph.add_edge(pydot.Edge(\"A\", \"B\"))"
   ]
  },
  {
   "cell_type": "code",
   "execution_count": 4,
   "metadata": {},
   "outputs": [],
   "source": [
    "graph.write_png('pydot.png')"
   ]
  },
  {
   "cell_type": "code",
   "execution_count": 5,
   "metadata": {},
   "outputs": [],
   "source": [
    "from matplotlib.pyplot import imshow\n",
    "import numpy as np\n",
    "from PIL import Image"
   ]
  },
  {
   "cell_type": "code",
   "execution_count": 6,
   "metadata": {},
   "outputs": [
    {
     "data": {
      "text/plain": [
       "<matplotlib.image.AxesImage at 0x7f75aa16e4a8>"
      ]
     },
     "execution_count": 6,
     "metadata": {},
     "output_type": "execute_result"
    },
    {
     "data": {
      "image/png": "[encoded data removed]",
      "text/plain": [
       "<Figure size 432x288 with 1 Axes>"
      ]
     },
     "metadata": {},
     "output_type": "display_data"
    }
   ],
   "source": [
    "%matplotlib inline\n",
    "pil_im = Image.open('pydot.png', 'r')\n",
    "imshow(np.asarray(pil_im))"
   ]
  },
  {
   "cell_type": "code",
   "execution_count": 2,
   "metadata": {},
   "outputs": [
    {
     "data": {
      "text/plain": [
       "b'CONTAINER ID        IMAGE                            COMMAND                  CREATED             STATUS              PORTS                                    NAMES\\nb8c38536b633        deciphernow/gm-data:seeder       \"./entrypoint.sh\"        24 minutes ago      Up 24 minutes                                                gm-data-fabric_gm-data-seeder_1\\na5cd5399bf4b        deciphernow/gm-data:satellite    \"./entrypoint.sh\"        24 minutes ago      Up 24 minutes       6060/tcp, 0.0.0.0:9877->8080/tcp         gm-data-fabric_gm-data-laptop-b_1\\ncbd79939c58d        deciphernow/gm-data:satellite    \"./entrypoint.sh\"        24 minutes ago      Up 24 minutes       6060/tcp, 0.0.0.0:9876->8080/tcp         gm-data-fabric_gm-data-laptop-a_1\\n4fca842bbd8d        deciphernow/gm-data:latest       \"/usr/bin/dumb-init \\xe2\\x80\\xa6\"   24 minutes ago      Up 24 minutes       6060/tcp, 8080/tcp, 10000-10001/tcp      gm-data-fabric_gm-data-fabric_1\\ncbcc6cb03037        deciphernow/fabric:1.1.5         \"/usr/local/bin/entr\\xe2\\x80\\xa6\"   24 minutes ago      Up 24 minutes       80/tcp, 2181/tcp, 0.0.0.0:443->443/tcp   gm-data-fabric_gm-dashboard_1\\n9bc95a624aa1        docker/kube-compose-api-server   \"/api-server --kubec\\xe2\\x80\\xa6\"   3 hours ago         Up 3 hours                                                   k8s_compose_compose-api-75d86595dc-zz58x_docker_8ea83baa-7b1d-11e8-b852-025000000001_1\\n43ec7f4fea74        6f7f2dc7fab5                     \"/sidecar --v=2 --lo\\xe2\\x80\\xa6\"   3 hours ago         Up 3 hours                                                   k8s_sidecar_kube-dns-86f4d74b45-7dhrf_kube-system_8ea854e1-7b1d-11e8-b852-025000000001_0\\n47292646203b        c2ce1ffb51ed                     \"/dnsmasq-nanny -v=2\\xe2\\x80\\xa6\"   3 hours ago         Up 3 hours                                                   k8s_dnsmasq_kube-dns-86f4d74b45-7dhrf_kube-system_8ea854e1-7b1d-11e8-b852-025000000001_0\\n3738beaba8bc        docker/kube-compose-controller   \"/compose-controller\\xe2\\x80\\xa6\"   3 hours ago         Up 3 hours                                                   k8s_compose_compose-6f784b699b-6ssxg_docker_8ea847a4-7b1d-11e8-b852-025000000001_0\\ne9cc6a02e2ce        4261d315109d                     \"/usr/local/bin/kube\\xe2\\x80\\xa6\"   3 hours ago         Up 3 hours                                                   k8s_kube-proxy_kube-proxy-v9lhp_kube-system_8ea8901a-7b1d-11e8-b852-025000000001_0\\na8ce6e0554d4        80cc5ea4b547                     \"/kube-dns --domain=\\xe2\\x80\\xa6\"   3 hours ago         Up 3 hours                                                   k8s_kubedns_kube-dns-86f4d74b45-7dhrf_kube-system_8ea854e1-7b1d-11e8-b852-025000000001_0\\n11aa72c8678d        k8s.gcr.io/pause-amd64:3.1       \"/pause\"                 3 hours ago         Up 3 hours                                                   k8s_POD_compose-api-75d86595dc-zz58x_docker_8ea83baa-7b1d-11e8-b852-025000000001_0\\n88dca15f6465        k8s.gcr.io/pause-amd64:3.1       \"/pause\"                 3 hours ago         Up 3 hours                                                   k8s_POD_kube-proxy-v9lhp_kube-system_8ea8901a-7b1d-11e8-b852-025000000001_0\\ndb1fb6270f49        k8s.gcr.io/pause-amd64:3.1       \"/pause\"                 3 hours ago         Up 3 hours                                                   k8s_POD_kube-dns-86f4d74b45-7dhrf_kube-system_8ea854e1-7b1d-11e8-b852-025000000001_0\\nbd3963cf357b        k8s.gcr.io/pause-amd64:3.1       \"/pause\"                 3 hours ago         Up 3 hours                                                   k8s_POD_compose-6f784b699b-6ssxg_docker_8ea847a4-7b1d-11e8-b852-025000000001_0\\n424d65bfa007        52920ad46f5b                     \"etcd --trusted-ca-f\\xe2\\x80\\xa6\"   3 hours ago         Up 3 hours                                                   k8s_etcd_etcd-docker-for-desktop_kube-system_5cfde94a540208937ae753baf232e066_0\\na39b6edc30a3        353b8f1d102e                     \"kube-scheduler --ad\\xe2\\x80\\xa6\"   3 hours ago         Up 3 hours                                                   k8s_kube-scheduler_kube-scheduler-docker-for-desktop_kube-system_ea66a171667ec4aaf1b274428a42a7cf_0\\n4c701fe174ad        e03746fe22c3                     \"kube-apiserver --ad\\xe2\\x80\\xa6\"   3 hours ago         Up 3 hours                                                   k8s_kube-apiserver_kube-apiserver-docker-for-desktop_kube-system_2831ffaa98974109b3852f709462e6de_0\\n8bc172f5b19d        40c8d10b2d11                     \"kube-controller-man\\xe2\\x80\\xa6\"   3 hours ago         Up 3 hours                                                   k8s_kube-controller-manager_kube-controller-manager-docker-for-desktop_kube-system_9cded6a0db0b4c1d00978f567e03d5d0_0\\ne319995aba04        k8s.gcr.io/pause-amd64:3.1       \"/pause\"                 3 hours ago         Up 3 hours                                                   k8s_POD_etcd-docker-for-desktop_kube-system_5cfde94a540208937ae753baf232e066_0\\n79a2c591ad13        k8s.gcr.io/pause-amd64:3.1       \"/pause\"                 3 hours ago         Up 3 hours                                                   k8s_POD_kube-scheduler-docker-for-desktop_kube-system_ea66a171667ec4aaf1b274428a42a7cf_0\\nfcec2d448cbd        k8s.gcr.io/pause-amd64:3.1       \"/pause\"                 3 hours ago         Up 3 hours                                                   k8s_POD_kube-controller-manager-docker-for-desktop_kube-system_9cded6a0db0b4c1d00978f567e03d5d0_0\\ne2b204185c4b        k8s.gcr.io/pause-amd64:3.1       \"/pause\"                 3 hours ago         Up 3 hours                                                   k8s_POD_kube-apiserver-docker-for-desktop_kube-system_2831ffaa98974109b3852f709462e6de_0\\n5fd4c13248ee        dockercontroller                 \"tini -g -- start-no\\xe2\\x80\\xa6\"   4 hours ago         Up 3 hours          0.0.0.0:10000->8888/tcp                  scipyworkstation_tensorflow-notebook_1\\n'"
      ]
     },
     "execution_count": 2,
     "metadata": {},
     "output_type": "execute_result"
    }
   ],
   "source": [
    "import subprocess\n",
    "subprocess.check_output([\"docker\", \"ps\"])"
   ]
  },
  {
   "cell_type": "code",
   "execution_count": 2,
   "metadata": {},
   "outputs": [
    {
     "data": {
      "text/plain": [
       "b'\\nHello from Docker!\\nThis message shows that your installation appears to be working correctly.\\n\\nTo generate this message, Docker took the following steps:\\n 1. The Docker client contacted the Docker daemon.\\n 2. The Docker daemon pulled the \"hello-world\" image from the Docker Hub.\\n    (amd64)\\n 3. The Docker daemon created a new container from that image which runs the\\n    executable that produces the output you are currently reading.\\n 4. The Docker daemon streamed that output to the Docker client, which sent it\\n    to your terminal.\\n\\nTo try something more ambitious, you can run an Ubuntu container with:\\n $ docker run -it ubuntu bash\\n\\nShare images, automate workflows, and more with a free Docker ID:\\n https://hub.docker.com/\\n\\nFor more examples and ideas, visit:\\n https://docs.docker.com/engine/userguide/\\n\\n'"
      ]
     },
     "execution_count": 2,
     "metadata": {},
     "output_type": "execute_result"
    }
   ],
   "source": [
    "subprocess.check_output([\"docker\", \"run\", \"hello-world\"])"
   ]
  },
  {
   "cell_type": "code",
   "execution_count": 3,
   "metadata": {},
   "outputs": [],
   "source": [
    "import json\n",
    "ioreport = []\n",
    "jraw = subprocess.check_output([\"docker\", \"stats\", \"--format\", \"'{{json .}}'\", \"--no-stream\"]).decode(\"utf-8\")\n",
    "for f in jraw.splitlines():\n",
    "    cleaned = f.replace(\"\\'\",\"\")\n",
    "    j = json.loads(cleaned)\n",
    "    ioreport.append(j)"
   ]
  },
  {
   "cell_type": "code",
   "execution_count": 1,
   "metadata": {},
   "outputs": [
    {
     "ename": "NameError",
     "evalue": "name 'ioreport' is not defined",
     "output_type": "error",
     "traceback": [
      "\u001b[0;31m---------------------------------------------------------------------------\u001b[0m",
      "\u001b[0;31mNameError\u001b[0m                                 Traceback (most recent call last)",
      "\u001b[0;32m<ipython-input-1-d13a59efb981>\u001b[0m in \u001b[0;36m<module>\u001b[0;34m()\u001b[0m\n\u001b[0;32m----> 1\u001b[0;31m \u001b[0mprint\u001b[0m\u001b[0;34m(\u001b[0m\u001b[0mioreport\u001b[0m\u001b[0;34m)\u001b[0m\u001b[0;34m\u001b[0m\u001b[0m\n\u001b[0m",
      "\u001b[0;31mNameError\u001b[0m: name 'ioreport' is not defined"
     ]
    }
   ],
   "source": [
    "print(ioreport)"
   ]
  },
  {
   "cell_type": "code",
   "execution_count": null,
   "metadata": {},
   "outputs": [],
   "source": []
  }
 ],
 "metadata": {
  "kernelspec": {
   "display_name": "Python 3",
   "language": "python",
   "name": "python3"
  },
  "language_info": {
   "codemirror_mode": {
    "name": "ipython",
    "version": 3
   },
   "file_extension": ".py",
   "mimetype": "text/x-python",
   "name": "python",
   "nbconvert_exporter": "python",
   "pygments_lexer": "ipython3",
   "version": "3.6.5"
  }
 },
 "nbformat": 4,
 "nbformat_minor": 2
}
